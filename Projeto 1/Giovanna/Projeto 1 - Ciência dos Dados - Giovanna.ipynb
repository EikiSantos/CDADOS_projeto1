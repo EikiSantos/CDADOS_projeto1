{
 "cells": [
  {
   "cell_type": "markdown",
   "metadata": {},
   "source": [
    "# Projeto 1 - Ciência dos dados\n",
    "\n",
    "### Giovanna Sardella Cabral | 2A Engenharia\n",
    "\n",
    "** Pergunta:** O IDH (índice de desenvolvimento humano) é caracterizado por 3 diferentes fatores, a expectativa de vida, anos médios de estudo e anos esperados de escolaridade e renda (GDP ou PIB) per capita. Como conseguinte, a inflação e o número de bilionários também interferem no IDH dos países? \n"
   ]
  },
  {
   "cell_type": "markdown",
   "metadata": {},
   "source": [
    "# IDH, Inflação e número de bilionários\n",
    "Foram coletados 3 dados do site https://www.gapminder.org/:\n",
    "1. IDH(índice de desenvolvimento humano)\n",
    "2. Inflação\n",
    "3. Número de bilionários\n",
    "\n",
    "Nesses dataframes, as linhas representam os países, as colunas representam o ano de 2007.\n",
    "No dataframe IDH criado a seguir, o conteúdo de cada célula é a medida do IDH de um determinado ano (coluna) para determinado país (linha).\n",
    "No dataframe inflation criado a seguir, o conteúdo de cada célula é a medida da inflação de um determinado ano (coluna) para um determinado país (linha). \n",
    "No dataframe billionaires criado a seguir, o conteúdo de cada célula é o número de bilionários de um determinado ano (coluna) para um determinado país (linha). \n",
    "\n"
   ]
  },
  {
   "cell_type": "markdown",
   "metadata": {},
   "source": [
    "# Introdução\n",
    "O intuito desse projeto é analisar outros fatores que não caracterizam o IDH diretamente e observar se existe uma correlação entre estes e o IDH. Consequentemente, será possível identificar se a inflação e o número de bilionários interferem no IDH. \n",
    "O senso comum faz parte da população acreditar que quanto menor o índice de desenvolvimento humano e maior a inflação, menor o número de bilionários em um país. Assim, o estudo e análise desses dados tem como objetivo verificar se isto é realmente verdaderiro. "
   ]
  },
  {
   "cell_type": "markdown",
   "metadata": {},
   "source": [
    "# Leitura dos arquivos e mudanças de índices¶"
   ]
  },
  {
   "cell_type": "code",
   "execution_count": 2,
   "metadata": {},
   "outputs": [],
   "source": [
    "%matplotlib inline\n",
    "import pandas as pd\n",
    "import numpy as np\n",
    "import math as math\n",
    "from scipy import stats\n",
    "import matplotlib.pyplot as plt\n",
    "import seaborn as sns"
   ]
  },
  {
   "cell_type": "code",
   "execution_count": 3,
   "metadata": {},
   "outputs": [],
   "source": [
    "#Leitura dos arquivos em Excel\n",
    "IDH = pd.read_excel('hdi_human_development_index.xlsx')\n",
    "inflation = pd.read_excel('inflation_annual_percent.xlsx')\n",
    "billionaires = pd.read_excel('total_number_of_dollar_billionaires.xlsx')"
   ]
  },
  {
   "cell_type": "markdown",
   "metadata": {},
   "source": [
    "# IDH\n",
    "É possível verificar que cada linha representa um país e as colunas representam o ano de 2007"
   ]
  },
  {
   "cell_type": "code",
   "execution_count": 4,
   "metadata": {},
   "outputs": [
    {
     "data": {
      "text/html": [
       "<div>\n",
       "<style scoped>\n",
       "    .dataframe tbody tr th:only-of-type {\n",
       "        vertical-align: middle;\n",
       "    }\n",
       "\n",
       "    .dataframe tbody tr th {\n",
       "        vertical-align: top;\n",
       "    }\n",
       "\n",
       "    .dataframe thead th {\n",
       "        text-align: right;\n",
       "    }\n",
       "</style>\n",
       "<table border=\"1\" class=\"dataframe\">\n",
       "  <thead>\n",
       "    <tr style=\"text-align: right;\">\n",
       "      <th></th>\n",
       "      <th>País</th>\n",
       "      <th>IDH em 2007</th>\n",
       "    </tr>\n",
       "  </thead>\n",
       "  <tbody>\n",
       "    <tr>\n",
       "      <th>0</th>\n",
       "      <td>Afghanistan</td>\n",
       "      <td>0.433</td>\n",
       "    </tr>\n",
       "    <tr>\n",
       "      <th>1</th>\n",
       "      <td>Albania</td>\n",
       "      <td>0.713</td>\n",
       "    </tr>\n",
       "    <tr>\n",
       "      <th>2</th>\n",
       "      <td>Algeria</td>\n",
       "      <td>0.697</td>\n",
       "    </tr>\n",
       "    <tr>\n",
       "      <th>3</th>\n",
       "      <td>Andorra</td>\n",
       "      <td>NaN</td>\n",
       "    </tr>\n",
       "  </tbody>\n",
       "</table>\n",
       "</div>"
      ],
      "text/plain": [
       "          País  IDH em 2007\n",
       "0  Afghanistan        0.433\n",
       "1      Albania        0.713\n",
       "2      Algeria        0.697\n",
       "3      Andorra          NaN"
      ]
     },
     "execution_count": 4,
     "metadata": {},
     "output_type": "execute_result"
    }
   ],
   "source": [
    "IDH = IDH.loc[:, [\"geo\", 2007]]\n",
    "IDH= IDH.rename(columns = {'geo':'País', 2007:'IDH em 2007'})\n",
    "IDH.head(4)\n"
   ]
  },
  {
   "cell_type": "markdown",
   "metadata": {},
   "source": [
    "# Inflação\n",
    "É possível verificar que cada linha representa um país e as colunas representam o ano de 2007"
   ]
  },
  {
   "cell_type": "code",
   "execution_count": 5,
   "metadata": {},
   "outputs": [
    {
     "data": {
      "text/html": [
       "<div>\n",
       "<style scoped>\n",
       "    .dataframe tbody tr th:only-of-type {\n",
       "        vertical-align: middle;\n",
       "    }\n",
       "\n",
       "    .dataframe tbody tr th {\n",
       "        vertical-align: top;\n",
       "    }\n",
       "\n",
       "    .dataframe thead th {\n",
       "        text-align: right;\n",
       "    }\n",
       "</style>\n",
       "<table border=\"1\" class=\"dataframe\">\n",
       "  <thead>\n",
       "    <tr style=\"text-align: right;\">\n",
       "      <th></th>\n",
       "      <th>País</th>\n",
       "      <th>Inflação em 2007</th>\n",
       "    </tr>\n",
       "  </thead>\n",
       "  <tbody>\n",
       "    <tr>\n",
       "      <th>0</th>\n",
       "      <td>Afghanistan</td>\n",
       "      <td>22.40</td>\n",
       "    </tr>\n",
       "    <tr>\n",
       "      <th>1</th>\n",
       "      <td>Albania</td>\n",
       "      <td>3.58</td>\n",
       "    </tr>\n",
       "    <tr>\n",
       "      <th>2</th>\n",
       "      <td>Algeria</td>\n",
       "      <td>6.42</td>\n",
       "    </tr>\n",
       "    <tr>\n",
       "      <th>3</th>\n",
       "      <td>Andorra</td>\n",
       "      <td>3.87</td>\n",
       "    </tr>\n",
       "  </tbody>\n",
       "</table>\n",
       "</div>"
      ],
      "text/plain": [
       "          País  Inflação em 2007\n",
       "0  Afghanistan             22.40\n",
       "1      Albania              3.58\n",
       "2      Algeria              6.42\n",
       "3      Andorra              3.87"
      ]
     },
     "execution_count": 5,
     "metadata": {},
     "output_type": "execute_result"
    }
   ],
   "source": [
    "inflation = inflation.loc[:, [\"geo\", 2007]]\n",
    "inflation = inflation.rename(columns = {'geo':'País', 2007:'Inflação em 2007'})\n",
    "inflation.head(4)"
   ]
  },
  {
   "cell_type": "markdown",
   "metadata": {},
   "source": [
    "# Número de bilionários\n",
    "É possível verificar que cada linha representa um país e as colunas representam o ano de 2007"
   ]
  },
  {
   "cell_type": "code",
   "execution_count": 6,
   "metadata": {},
   "outputs": [
    {
     "data": {
      "text/html": [
       "<div>\n",
       "<style scoped>\n",
       "    .dataframe tbody tr th:only-of-type {\n",
       "        vertical-align: middle;\n",
       "    }\n",
       "\n",
       "    .dataframe tbody tr th {\n",
       "        vertical-align: top;\n",
       "    }\n",
       "\n",
       "    .dataframe thead th {\n",
       "        text-align: right;\n",
       "    }\n",
       "</style>\n",
       "<table border=\"1\" class=\"dataframe\">\n",
       "  <thead>\n",
       "    <tr style=\"text-align: right;\">\n",
       "      <th></th>\n",
       "      <th>País</th>\n",
       "      <th>Bilionários em 2007</th>\n",
       "    </tr>\n",
       "  </thead>\n",
       "  <tbody>\n",
       "    <tr>\n",
       "      <th>0</th>\n",
       "      <td>Afghanistan</td>\n",
       "      <td>0</td>\n",
       "    </tr>\n",
       "    <tr>\n",
       "      <th>1</th>\n",
       "      <td>Albania</td>\n",
       "      <td>0</td>\n",
       "    </tr>\n",
       "    <tr>\n",
       "      <th>2</th>\n",
       "      <td>Algeria</td>\n",
       "      <td>0</td>\n",
       "    </tr>\n",
       "    <tr>\n",
       "      <th>3</th>\n",
       "      <td>Andorra</td>\n",
       "      <td>0</td>\n",
       "    </tr>\n",
       "  </tbody>\n",
       "</table>\n",
       "</div>"
      ],
      "text/plain": [
       "          País  Bilionários em 2007\n",
       "0  Afghanistan                    0\n",
       "1      Albania                    0\n",
       "2      Algeria                    0\n",
       "3      Andorra                    0"
      ]
     },
     "execution_count": 6,
     "metadata": {},
     "output_type": "execute_result"
    }
   ],
   "source": [
    "billionaires = billionaires.loc[:, [\"geo\", 2007]]\n",
    "billionaires = billionaires.rename(columns = {'geo':'País', 2007:'Bilionários em 2007'})\n",
    "billionaires.head(4)"
   ]
  },
  {
   "cell_type": "markdown",
   "metadata": {},
   "source": [
    "# Inner join\n",
    "Aqui os três dados coletados estarão na mesma tabela."
   ]
  },
  {
   "cell_type": "code",
   "execution_count": 7,
   "metadata": {},
   "outputs": [
    {
     "data": {
      "text/html": [
       "<div>\n",
       "<style scoped>\n",
       "    .dataframe tbody tr th:only-of-type {\n",
       "        vertical-align: middle;\n",
       "    }\n",
       "\n",
       "    .dataframe tbody tr th {\n",
       "        vertical-align: top;\n",
       "    }\n",
       "\n",
       "    .dataframe thead th {\n",
       "        text-align: right;\n",
       "    }\n",
       "</style>\n",
       "<table border=\"1\" class=\"dataframe\">\n",
       "  <thead>\n",
       "    <tr style=\"text-align: right;\">\n",
       "      <th></th>\n",
       "      <th>País</th>\n",
       "      <th>IDH em 2007</th>\n",
       "      <th>País</th>\n",
       "      <th>Inflação em 2007</th>\n",
       "    </tr>\n",
       "  </thead>\n",
       "  <tbody>\n",
       "    <tr>\n",
       "      <th>0</th>\n",
       "      <td>Afghanistan</td>\n",
       "      <td>0.433</td>\n",
       "      <td>Afghanistan</td>\n",
       "      <td>22.40</td>\n",
       "    </tr>\n",
       "    <tr>\n",
       "      <th>1</th>\n",
       "      <td>Albania</td>\n",
       "      <td>0.713</td>\n",
       "      <td>Albania</td>\n",
       "      <td>3.58</td>\n",
       "    </tr>\n",
       "    <tr>\n",
       "      <th>2</th>\n",
       "      <td>Algeria</td>\n",
       "      <td>0.697</td>\n",
       "      <td>Algeria</td>\n",
       "      <td>6.42</td>\n",
       "    </tr>\n",
       "    <tr>\n",
       "      <th>3</th>\n",
       "      <td>Andorra</td>\n",
       "      <td>NaN</td>\n",
       "      <td>Andorra</td>\n",
       "      <td>3.87</td>\n",
       "    </tr>\n",
       "    <tr>\n",
       "      <th>4</th>\n",
       "      <td>Angola</td>\n",
       "      <td>0.468</td>\n",
       "      <td>Angola</td>\n",
       "      <td>12.60</td>\n",
       "    </tr>\n",
       "    <tr>\n",
       "      <th>5</th>\n",
       "      <td>Antigua and Barbuda</td>\n",
       "      <td>0.786</td>\n",
       "      <td>Antigua and Barbuda</td>\n",
       "      <td>3.74</td>\n",
       "    </tr>\n",
       "    <tr>\n",
       "      <th>6</th>\n",
       "      <td>Argentina</td>\n",
       "      <td>0.792</td>\n",
       "      <td>Argentina</td>\n",
       "      <td>14.90</td>\n",
       "    </tr>\n",
       "    <tr>\n",
       "      <th>7</th>\n",
       "      <td>Armenia</td>\n",
       "      <td>0.721</td>\n",
       "      <td>Armenia</td>\n",
       "      <td>4.23</td>\n",
       "    </tr>\n",
       "    <tr>\n",
       "      <th>8</th>\n",
       "      <td>Australia</td>\n",
       "      <td>0.921</td>\n",
       "      <td>Australia</td>\n",
       "      <td>4.98</td>\n",
       "    </tr>\n",
       "    <tr>\n",
       "      <th>9</th>\n",
       "      <td>Austria</td>\n",
       "      <td>0.864</td>\n",
       "      <td>Austria</td>\n",
       "      <td>2.33</td>\n",
       "    </tr>\n",
       "  </tbody>\n",
       "</table>\n",
       "</div>"
      ],
      "text/plain": [
       "                 País   IDH em 2007                País   Inflação em 2007\n",
       "0          Afghanistan        0.433          Afghanistan             22.40\n",
       "1              Albania        0.713              Albania              3.58\n",
       "2              Algeria        0.697              Algeria              6.42\n",
       "3              Andorra          NaN              Andorra              3.87\n",
       "4               Angola        0.468               Angola             12.60\n",
       "5  Antigua and Barbuda        0.786  Antigua and Barbuda              3.74\n",
       "6            Argentina        0.792            Argentina             14.90\n",
       "7              Armenia        0.721              Armenia              4.23\n",
       "8            Australia        0.921            Australia              4.98\n",
       "9              Austria        0.864              Austria              2.33"
      ]
     },
     "execution_count": 7,
     "metadata": {},
     "output_type": "execute_result"
    }
   ],
   "source": [
    "df = IDH.join(inflation, how='inner', lsuffix=' ', rsuffix=' ')\n",
    "df.head(10)"
   ]
  },
  {
   "cell_type": "code",
   "execution_count": 8,
   "metadata": {},
   "outputs": [
    {
     "data": {
      "text/html": [
       "<div>\n",
       "<style scoped>\n",
       "    .dataframe tbody tr th:only-of-type {\n",
       "        vertical-align: middle;\n",
       "    }\n",
       "\n",
       "    .dataframe tbody tr th {\n",
       "        vertical-align: top;\n",
       "    }\n",
       "\n",
       "    .dataframe thead th {\n",
       "        text-align: right;\n",
       "    }\n",
       "</style>\n",
       "<table border=\"1\" class=\"dataframe\">\n",
       "  <thead>\n",
       "    <tr style=\"text-align: right;\">\n",
       "      <th></th>\n",
       "      <th>País</th>\n",
       "      <th>IDH em 2007</th>\n",
       "      <th>País</th>\n",
       "      <th>Inflação em 2007</th>\n",
       "      <th>País</th>\n",
       "      <th>Bilionários em 2007</th>\n",
       "    </tr>\n",
       "  </thead>\n",
       "  <tbody>\n",
       "    <tr>\n",
       "      <th>0</th>\n",
       "      <td>Afghanistan</td>\n",
       "      <td>0.433</td>\n",
       "      <td>Afghanistan</td>\n",
       "      <td>22.40</td>\n",
       "      <td>Afghanistan</td>\n",
       "      <td>0</td>\n",
       "    </tr>\n",
       "    <tr>\n",
       "      <th>1</th>\n",
       "      <td>Albania</td>\n",
       "      <td>0.713</td>\n",
       "      <td>Albania</td>\n",
       "      <td>3.58</td>\n",
       "      <td>Albania</td>\n",
       "      <td>0</td>\n",
       "    </tr>\n",
       "    <tr>\n",
       "      <th>2</th>\n",
       "      <td>Algeria</td>\n",
       "      <td>0.697</td>\n",
       "      <td>Algeria</td>\n",
       "      <td>6.42</td>\n",
       "      <td>Algeria</td>\n",
       "      <td>0</td>\n",
       "    </tr>\n",
       "    <tr>\n",
       "      <th>3</th>\n",
       "      <td>Andorra</td>\n",
       "      <td>NaN</td>\n",
       "      <td>Andorra</td>\n",
       "      <td>3.87</td>\n",
       "      <td>Andorra</td>\n",
       "      <td>0</td>\n",
       "    </tr>\n",
       "    <tr>\n",
       "      <th>4</th>\n",
       "      <td>Angola</td>\n",
       "      <td>0.468</td>\n",
       "      <td>Angola</td>\n",
       "      <td>12.60</td>\n",
       "      <td>Angola</td>\n",
       "      <td>0</td>\n",
       "    </tr>\n",
       "    <tr>\n",
       "      <th>5</th>\n",
       "      <td>Antigua and Barbuda</td>\n",
       "      <td>0.786</td>\n",
       "      <td>Antigua and Barbuda</td>\n",
       "      <td>3.74</td>\n",
       "      <td>Antigua and Barbuda</td>\n",
       "      <td>0</td>\n",
       "    </tr>\n",
       "    <tr>\n",
       "      <th>6</th>\n",
       "      <td>Argentina</td>\n",
       "      <td>0.792</td>\n",
       "      <td>Argentina</td>\n",
       "      <td>14.90</td>\n",
       "      <td>Argentina</td>\n",
       "      <td>1</td>\n",
       "    </tr>\n",
       "    <tr>\n",
       "      <th>7</th>\n",
       "      <td>Armenia</td>\n",
       "      <td>0.721</td>\n",
       "      <td>Armenia</td>\n",
       "      <td>4.23</td>\n",
       "      <td>Armenia</td>\n",
       "      <td>0</td>\n",
       "    </tr>\n",
       "    <tr>\n",
       "      <th>8</th>\n",
       "      <td>Australia</td>\n",
       "      <td>0.921</td>\n",
       "      <td>Australia</td>\n",
       "      <td>4.98</td>\n",
       "      <td>Australia</td>\n",
       "      <td>12</td>\n",
       "    </tr>\n",
       "    <tr>\n",
       "      <th>9</th>\n",
       "      <td>Austria</td>\n",
       "      <td>0.864</td>\n",
       "      <td>Austria</td>\n",
       "      <td>2.33</td>\n",
       "      <td>Austria</td>\n",
       "      <td>3</td>\n",
       "    </tr>\n",
       "  </tbody>\n",
       "</table>\n",
       "</div>"
      ],
      "text/plain": [
       "                 País   IDH em 2007                País   Inflação em 2007  \\\n",
       "0          Afghanistan        0.433          Afghanistan             22.40   \n",
       "1              Albania        0.713              Albania              3.58   \n",
       "2              Algeria        0.697              Algeria              6.42   \n",
       "3              Andorra          NaN              Andorra              3.87   \n",
       "4               Angola        0.468               Angola             12.60   \n",
       "5  Antigua and Barbuda        0.786  Antigua and Barbuda              3.74   \n",
       "6            Argentina        0.792            Argentina             14.90   \n",
       "7              Armenia        0.721              Armenia              4.23   \n",
       "8            Australia        0.921            Australia              4.98   \n",
       "9              Austria        0.864              Austria              2.33   \n",
       "\n",
       "                  País  Bilionários em 2007  \n",
       "0          Afghanistan                    0  \n",
       "1              Albania                    0  \n",
       "2              Algeria                    0  \n",
       "3              Andorra                    0  \n",
       "4               Angola                    0  \n",
       "5  Antigua and Barbuda                    0  \n",
       "6            Argentina                    1  \n",
       "7              Armenia                    0  \n",
       "8            Australia                   12  \n",
       "9              Austria                    3  "
      ]
     },
     "execution_count": 8,
     "metadata": {},
     "output_type": "execute_result"
    }
   ],
   "source": [
    "data = df.join(billionaires, how=\"inner\")\n",
    "data.head(10)"
   ]
  },
  {
   "cell_type": "markdown",
   "metadata": {},
   "source": [
    "# Análise e explicação dos resultados\n",
    "Para a análise dos dados e melhor visualização desses, gráficos e outros recursos, como boxplot e histograma serão utilizados. "
   ]
  },
  {
   "cell_type": "code",
   "execution_count": 28,
   "metadata": {},
   "outputs": [],
   "source": [
    "def reta(dados_x, dados_y, nome_x = \"Eixo X\", nome_y = \"Eixo Y\"):    \n",
    "    a = dados_y.cov(dados_x) / dados_x.var()\n",
    "    b = dados_y.mean() - a*dados_x.mean()\n",
    "\n",
    "    print('Ajuste linear entre ',nome_x,'  e ',nome_y,':')\n",
    "    print('Coeficiente linear:', b)\n",
    "    print('Coeficiente angular:', a)\n",
    "\n",
    "    fig = plt.figure(figsize=(8, 6))\n",
    "    plt.scatter(dados_x, dados_y, c='red', alpha=0.8)\n",
    "    plt.title(nome_x + \" versus \"+ nome_y)\n",
    "    plt.xlabel(nome_x)\n",
    "    plt.ylabel(nome_y)\n",
    "\n",
    "    plt.plot((dados_x.min(), dados_x.max()), (a*dados_x.min()+b, a*dados_x.max()+b), color='blue')\n",
    "\n",
    "    plt.tight_layout()\n",
    "    plt.show()"
   ]
  },
  {
   "cell_type": "code",
   "execution_count": 27,
   "metadata": {},
   "outputs": [
    {
     "name": "stdout",
     "output_type": "stream",
     "text": [
      "A correlação entre o IDH em 2007 e a inflação em 2007 é: -0.13410770034577624\n"
     ]
    },
    {
     "data": {
      "image/png": "[encoded data removed]",
      "text/plain": [
       "<Figure size 432x288 with 1 Axes>"
      ]
     },
     "metadata": {
      "needs_background": "light"
     },
     "output_type": "display_data"
    }
   ],
   "source": [
    "data.plot.scatter(x='Inflação em 2007',y='IDH em 2007', loglog = False);\n",
    "sns.regplot(data[\"Inflação em 2007\"],data[\"IDH em 2007\"], color=('turquoise'))\n",
    "plt.grid()\n",
    "print('A correlação entre o IDH em 2007 e a inflação em 2007 é:', data['IDH em 2007'].corr(data['Inflação em 2007']))"
   ]
  },
  {
   "cell_type": "code",
   "execution_count": null,
   "metadata": {},
   "outputs": [],
   "source": []
  },
  {
   "cell_type": "code",
   "execution_count": 11,
   "metadata": {},
   "outputs": [
    {
     "name": "stdout",
     "output_type": "stream",
     "text": [
      "A correlação entre o IDH em 2007 e o número de bilionários em 2007 é: -0.05302735302212071\n"
     ]
    },
    {
     "data": {
      "image/png": "[encoded data removed]",
      "text/plain": [
       "<Figure size 432x288 with 1 Axes>"
      ]
     },
     "metadata": {
      "needs_background": "light"
     },
     "output_type": "display_data"
    }
   ],
   "source": [
    "data.plot.scatter(x='Bilionários em 2007',y='IDH em 2007');\n",
    "sns.regplot(data[\"Bilionários em 2007\"],data[\"IDH em 2007\"], color=('indigo'))\n",
    "plt.axis([0, 60, 0.2, 1])\n",
    "plt.grid()\n",
    "print('A correlação entre o IDH em 2007 e o número de bilionários em 2007 é:', data['IDH em 2007'].corr(data['Bilionários em 2007']))"
   ]
  },
  {
   "cell_type": "code",
   "execution_count": 12,
   "metadata": {},
   "outputs": [
    {
     "name": "stdout",
     "output_type": "stream",
     "text": [
      "A correlação entre a inflação em 2007 e o número de bilionários em 2007  é: 0.013046112942306192\n"
     ]
    },
    {
     "data": {
      "image/png": "[encoded data removed]",
      "text/plain": [
       "<Figure size 432x288 with 1 Axes>"
      ]
     },
     "metadata": {
      "needs_background": "light"
     },
     "output_type": "display_data"
    }
   ],
   "source": [
    "data.plot.scatter(x='Inflação em 2007',y='Bilionários em 2007');\n",
    "sns.regplot(data[\"Inflação em 2007\"],data[\"Bilionários em 2007\"], color=('goldenrod'))\n",
    "plt.axis([0, 30, 30, -20])\n",
    "plt.grid()\n",
    "print('A correlação entre a inflação em 2007 e o número de bilionários em 2007  é:', data['Inflação em 2007'].corr(data['Bilionários em 2007']))"
   ]
  },
  {
   "cell_type": "code",
   "execution_count": 13,
   "metadata": {},
   "outputs": [
    {
     "data": {
      "text/plain": [
       "<matplotlib.axes._subplots.AxesSubplot at 0x19d105165f8>"
      ]
     },
     "execution_count": 13,
     "metadata": {},
     "output_type": "execute_result"
    },
    {
     "data": {
      "image/png": "[encoded data removed]",
      "text/plain": [
       "<Figure size 432x288 with 1 Axes>"
      ]
     },
     "metadata": {
      "needs_background": "light"
     },
     "output_type": "display_data"
    }
   ],
   "source": [
    "data.loc[:, 'IDH em 2007'].plot.box()"
   ]
  },
  {
   "cell_type": "code",
   "execution_count": 14,
   "metadata": {},
   "outputs": [
    {
     "data": {
      "image/png": "[encoded data removed]",
      "text/plain": [
       "<Figure size 432x288 with 1 Axes>"
      ]
     },
     "metadata": {
      "needs_background": "light"
     },
     "output_type": "display_data"
    }
   ],
   "source": [
    "data[\"IDH em 2007\"].plot.hist(density=True);"
   ]
  },
  {
   "cell_type": "code",
   "execution_count": 15,
   "metadata": {},
   "outputs": [
    {
     "data": {
      "text/plain": [
       "<matplotlib.axes._subplots.AxesSubplot at 0x19d10897908>"
      ]
     },
     "execution_count": 15,
     "metadata": {},
     "output_type": "execute_result"
    },
    {
     "data": {
      "image/png": "[encoded data removed]",
      "text/plain": [
       "<Figure size 432x288 with 1 Axes>"
      ]
     },
     "metadata": {
      "needs_background": "light"
     },
     "output_type": "display_data"
    }
   ],
   "source": [
    "data.loc[:, 'Inflação em 2007'].plot.box()"
   ]
  },
  {
   "cell_type": "code",
   "execution_count": 16,
   "metadata": {},
   "outputs": [
    {
     "data": {
      "image/png": "[encoded data removed]",
      "text/plain": [
       "<Figure size 432x288 with 1 Axes>"
      ]
     },
     "metadata": {
      "needs_background": "light"
     },
     "output_type": "display_data"
    }
   ],
   "source": [
    "data[\"Inflação em 2007\"].plot.hist(density=True);"
   ]
  },
  {
   "cell_type": "code",
   "execution_count": 17,
   "metadata": {},
   "outputs": [
    {
     "data": {
      "text/plain": [
       "<matplotlib.axes._subplots.AxesSubplot at 0x19d1079d198>"
      ]
     },
     "execution_count": 17,
     "metadata": {},
     "output_type": "execute_result"
    },
    {
     "data": {
      "image/png": "[encoded data removed]",
      "text/plain": [
       "<Figure size 432x288 with 1 Axes>"
      ]
     },
     "metadata": {
      "needs_background": "light"
     },
     "output_type": "display_data"
    }
   ],
   "source": [
    "data.loc[:, 'Bilionários em 2007'].plot.box()"
   ]
  },
  {
   "cell_type": "code",
   "execution_count": 18,
   "metadata": {},
   "outputs": [
    {
     "data": {
      "image/png": "[encoded data removed]",
      "text/plain": [
       "<Figure size 432x288 with 1 Axes>"
      ]
     },
     "metadata": {
      "needs_background": "light"
     },
     "output_type": "display_data"
    }
   ],
   "source": [
    "data[\"Bilionários em 2007\"].plot.hist(density=True);"
   ]
  },
  {
   "cell_type": "code",
   "execution_count": null,
   "metadata": {},
   "outputs": [],
   "source": []
  },
  {
   "cell_type": "code",
   "execution_count": null,
   "metadata": {},
   "outputs": [],
   "source": []
  },
  {
   "cell_type": "code",
   "execution_count": null,
   "metadata": {},
   "outputs": [],
   "source": []
  },
  {
   "cell_type": "code",
   "execution_count": null,
   "metadata": {},
   "outputs": [],
   "source": []
  }
 ],
 "metadata": {
  "kernelspec": {
   "display_name": "Python 3",
   "language": "python",
   "name": "python3"
  },
  "language_info": {
   "codemirror_mode": {
    "name": "ipython",
    "version": 3
   },
   "file_extension": ".py",
   "mimetype": "text/x-python",
   "name": "python",
   "nbconvert_exporter": "python",
   "pygments_lexer": "ipython3",
   "version": "3.7.1"
  }
 },
 "nbformat": 4,
 "nbformat_minor": 2
}
