{
 "cells": [
  {
   "cell_type": "markdown",
   "metadata": {},
   "source": [
    "# Projeto 1 - Ciência dos Dados <font color = '#6f8676'> (PROJETO SUJO) </font>"
   ]
  },
  {
   "cell_type": "markdown",
   "metadata": {},
   "source": [
    "Nome: Eiki Luis Yamashiro Batista dos Santos | 2A Engenharia"
   ]
  },
  {
   "cell_type": "markdown",
   "metadata": {},
   "source": [
    "## Pergunta a ser respondida:"
   ]
  },
  {
   "cell_type": "markdown",
   "metadata": {},
   "source": [
    "#### <font color = '#6f8676'>A entrada do Brasil no Mercosul aumentou o crescimento anual do PIB brasileiro.</font>"
   ]
  },
  {
   "cell_type": "markdown",
   "metadata": {},
   "source": [
    "## Explicação da hipótese e mecanismo:"
   ]
  },
  {
   "cell_type": "markdown",
   "metadata": {},
   "source": [
    "O Mercado Comum do Sul, ou Mercosul, é um bloco econômico criado em <font color=\"red\" >1991 </font>, no tratado de Assunção, com a união dos países: Argentina, Brasil, Paraguai e Uruguai. A principal fonte de movimentação financeira do Mercosul são as exportações e importações. É importante ressaltar que o Brasil ocupa a posição de líder econômico do bloco, apresentando a maior população e o maior PIB dentre os países presentes no Mercosul. A Venezuela foi o ultimo país à entrar no Mercosul. Os países associados são: Bolívia, Colombia, Peru, Equador e Chile. A hipótese é de que o Brasil teve um aumento no crescimento anual do PIB, pode-se relacionar esse crescimento com o aumento de importações e exportações. Como a principal fonte de movimentação financeira do Mercosul são as exportações e importações, então um dos mecanismos que podem relacionar esse aumento e a entrada no Mercosul seria as exportações e importações."
   ]
  },
  {
   "cell_type": "markdown",
   "metadata": {},
   "source": [
    "## Bases de dados usadas:"
   ]
  },
  {
   "cell_type": "markdown",
   "metadata": {},
   "source": [
    "Para a realização do projeto foram usados tabelas do site: https://gapminder.org/data/.\n",
    "As tabelas usadas foram:\n",
    "1. GDP Total, yearly growth\n",
    "2. Imports (% of GDP)\n",
    "3. Exports (% of GDP)\n",
    "    "
   ]
  },
  {
   "cell_type": "markdown",
   "metadata": {},
   "source": [
    "## Análise de dados:"
   ]
  },
  {
   "cell_type": "code",
   "execution_count": 2,
   "metadata": {},
   "outputs": [],
   "source": [
    "#---------------------------------------------IMPORTANDO AS BIBLIOTECAS---------------------------------------------------------\n",
    "import pandas as pd\n",
    "import numpy as np\n",
    "import matplotlib.pyplot as plt\n",
    "import matplotlib\n",
    "import seaborn as sns\n",
    "matplotlib.style.use('ggplot')"
   ]
  },
  {
   "cell_type": "code",
   "execution_count": 3,
   "metadata": {},
   "outputs": [],
   "source": [
    "#---------------------------------------------LENDO--ARQUIVOS--DO--EXCEL--------------------------------------------------------\n",
    "baby = pd.read_excel('baby.xlsx')\n",
    "gdp = pd.read_excel('gdp.xlsx')\n",
    "hydro = pd.read_excel('hydro.xlsx')\n",
    "imports = pd.read_excel(\"imports.xlsx\")\n",
    "idh = pd.read_excel(\"idh.xlsx\")\n",
    "inflation = pd.read_excel(\"inflation.xlsx\")\n",
    "importsgdp = pd.read_excel(\"imports_percent_of_gdp.xlsx\")\n",
    "exportsgdp = pd.read_excel(\"exports_percent_of_gdp.xlsx\")\n",
    "#-----------------------------------------------DEFININDO--O--ÍNDICE------------------------------------------------------------\n",
    "baby = baby.set_index(\"country\")\n",
    "gdp = gdp.set_index(\"country\")\n",
    "hydro = hydro.set_index(\"country\")\n",
    "imports = imports.set_index(\"country\")\n",
    "idh = idh.set_index(\"country\")\n",
    "inflation = inflation.set_index(\"country\")\n",
    "importsgdp = importsgdp.set_index(\"country\")\n",
    "exportsgdp = exportsgdp.set_index(\"country\")\n",
    "#-----------------------------------------------SELEÇÃO--DOS--PAÍSES------------------------------------------------------------\n",
    "baby = baby.loc[[\"Brazil\", \"South Africa\", \"Austria\", \"Norway\", \"New Zealand\", \"Russia\", \"China\", \"India\"]].transpose()\n",
    "gdp = gdp.loc[[\"Brazil\", \"South Africa\", \"Austria\", \"Norway\", \"New Zealand\", \"Russia\", \"China\", \"India\"]].transpose()\n",
    "hydro = hydro.loc[[\"Brazil\", \"South Africa\", \"Austria\", \"Norway\", \"New Zealand\", \"Russia\", \"China\", \"India\"]].transpose()\n",
    "imports = imports.loc[[\"Brazil\", \"South Africa\", \"Austria\", \"Norway\", \"New Zealand\", \"Russia\", \"China\", \"India\"]].transpose()\n",
    "idh = idh.loc[[\"Brazil\", \"South Africa\", \"Austria\", \"Norway\", \"New Zealand\", \"Russia\", \"China\", \"India\"]].transpose()\n",
    "inflation = inflation.loc[[\"Brazil\", \"South Africa\", \"Austria\", \"Norway\", \"New Zealand\", \"Russia\", \"China\", \"India\"]].transpose()\n",
    "importsgdp = importsgdp.loc[[\"Brazil\", \"South Africa\", \"Austria\", \"Norway\", \"New Zealand\", \"Russia\", \"China\", \"India\"]].transpose()\n",
    "exportsgdp = exportsgdp.loc[[\"Brazil\", \"South Africa\", \"Austria\", \"Norway\", \"New Zealand\", \"Russia\", \"China\", \"India\"]].transpose()\n"
   ]
  },
  {
   "cell_type": "markdown",
   "metadata": {},
   "source": [
    "### Analisando os Gráficos do Brasil:"
   ]
  },
  {
   "cell_type": "markdown",
   "metadata": {},
   "source": [
    "Com a finalidade de conhecer os valores do crescimento anual do PIB brasileiro, a criação de um gráfico que tem os anos desde 1950 à 2013 no eixo das abicissas e o crescimento anual do PIB no eixo das ordenadas, será de grande ajuda."
   ]
  },
  {
   "cell_type": "code",
   "execution_count": 4,
   "metadata": {},
   "outputs": [
    {
     "data": {
      "image/png": "[encoded data removed]",
      "text/plain": [
       "<Figure size 432x288 with 1 Axes>"
      ]
     },
     "metadata": {
      "needs_background": "light"
     },
     "output_type": "display_data"
    }
   ],
   "source": [
    "#---------------------------------------------------GRÁFICO--PIB----------------------------------------------------------------\n",
    "plt.plot(gdp.loc[(gdp.index > 1950) & (gdp.index < 2014), \"Brazil\"], label=\"Brazil\", color = '#6f8676')\n",
    "plt.grid(True)\n",
    "plt.legend()\n",
    "plt.title(\"Crescimento Anual do PIB (Brazil)\")\n",
    "plt.show()"
   ]
  },
  {
   "cell_type": "markdown",
   "metadata": {},
   "source": [
    "Esses dados são de 1950 à 2014, para entendermos melhor o impacto do Mercosul, vamos pegar os anos de 1980 à 2000, assim será possível ter uma ideia dos 10 anos anteriores à entrada no Mercosul e os 10 anos posteriores."
   ]
  },
  {
   "cell_type": "code",
   "execution_count": 5,
   "metadata": {},
   "outputs": [
    {
     "data": {
      "image/png": "[encoded data removed]",
      "text/plain": [
       "<Figure size 432x288 with 1 Axes>"
      ]
     },
     "metadata": {
      "needs_background": "light"
     },
     "output_type": "display_data"
    }
   ],
   "source": [
    "#---------------------------------------------------GRÁFICO--PIB----------------------------------------------------------------\n",
    "plt.plot(gdp.loc[(gdp.index > 1980) & (gdp.index < 2001), \"Brazil\"], label=\"Brazil\", color = '#6f8676')\n",
    "plt.grid(True)\n",
    "plt.legend()\n",
    "plt.title(\"Crescimento Anual do PIB (Brazil)(1980-2000)\")\n",
    "plt.show()"
   ]
  },
  {
   "cell_type": "markdown",
   "metadata": {},
   "source": [
    "É notável que após a entrada do Brasil no Mercosul (1991), houve um aumento do crescimento anual do PIB. Entretanto afirmar que o aumento se deve apenas pela entrada no Mercosul não é uma justificativa plausível. A exploração de mais dados para confirmar a hipótese ainda é necessária, portanto, como a principal fonte de movimentação financeira do Mercosul são as exportações e importações, vamos analisar os dados do Brasil referente à esses dois fatores."
   ]
  },
  {
   "cell_type": "code",
   "execution_count": 6,
   "metadata": {},
   "outputs": [
    {
     "data": {
      "image/png": "[encoded data removed]",
      "text/plain": [
       "<Figure size 432x288 with 1 Axes>"
      ]
     },
     "metadata": {
      "needs_background": "light"
     },
     "output_type": "display_data"
    },
    {
     "data": {
      "image/png": "[encoded data removed]",
      "text/plain": [
       "<Figure size 720x360 with 1 Axes>"
      ]
     },
     "metadata": {
      "needs_background": "light"
     },
     "output_type": "display_data"
    }
   ],
   "source": [
    "#------------------------------------------------------GRÁFICO-----------------------------------------------------------------\n",
    "plt.plot(exportsgdp.loc[(exportsgdp.index > 1980) & (exportsgdp.index < 2001), \"Brazil\"], label=\"Exportações\", color = '#6f8676')\n",
    "plt.plot(importsgdp.loc[(exportsgdp.index > 1980) & (exportsgdp.index < 2001), \"Brazil\"], label=\"Importações\", color = '#f7c066')\n",
    "plt.grid(True)\n",
    "plt.legend()\n",
    "plt.title(\"Exportação e Importação do Brasil (1980-2000)\")\n",
    "plt.show()\n",
    "#-----------------------------------------------GRÁFICO--DE--BARRAS------------------------------------------------------------\n",
    "imp_br = []\n",
    "i = 1\n",
    "while i <= 7:\n",
    "    impbr = importsgdp.loc[1988+i,\"Brazil\"]\n",
    "    imp_br.append(impbr)\n",
    "    i+=1\n",
    "\n",
    "#--------------------------------------------------------------\n",
    "exp_br = []\n",
    "i = 1\n",
    "while i <= 7:\n",
    "    expbr = exportsgdp.loc[1988+i,\"Brazil\"]\n",
    "    exp_br.append(expbr)\n",
    "    i+=1\n",
    "\n",
    "#---------------------------------------------------------------\n",
    "anos = [1991,1992,1993,1994,1995]\n",
    "barWidth = 0.25\n",
    "\n",
    "#Aumentando o Gráfico\n",
    "plt.figure(figsize=(10,5))\n",
    "\n",
    "#Posições das barras\n",
    "r1 = np.arange(len(imp_br))\n",
    "r2 = [x + barWidth for x in r1]\n",
    "\n",
    "plt.bar(r1, imp_br, color='#f7c066',width=barWidth,label='Importações')\n",
    "plt.bar(r2, exp_br, color=\"#6f8676\",width=barWidth,label='Exportações')\n",
    "plt.xlabel(\"Ano\")\n",
    "plt.xticks([r + barWidth for r in range(len(imp_br))], [1988,1989,1990,1991,1992,1993,1994,1995])\n",
    "plt.ylabel(\"% em relação ao PIB\")\n",
    "plt.title(\"Importações e Exportações (% em relação ao PIB) do Brasil\")\n",
    "plt.legend()\n",
    "plt.show()"
   ]
  },
  {
   "cell_type": "markdown",
   "metadata": {},
   "source": [
    "### Correlação:"
   ]
  },
  {
   "cell_type": "markdown",
   "metadata": {},
   "source": [
    "Com a finalidade de se entender melhor as relações entre esses três fatores (crescimento anual do PIB brasileiro, importações e exportações em relação percentual com o PIB brasileiro) a biblioteca seaborn será utilizada, para a criação de gráficos que podem apresentar a correlação entre esses fatores."
   ]
  },
  {
   "cell_type": "code",
   "execution_count": 7,
   "metadata": {},
   "outputs": [
    {
     "data": {
      "text/html": [
       "<div>\n",
       "<style scoped>\n",
       "    .dataframe tbody tr th:only-of-type {\n",
       "        vertical-align: middle;\n",
       "    }\n",
       "\n",
       "    .dataframe tbody tr th {\n",
       "        vertical-align: top;\n",
       "    }\n",
       "\n",
       "    .dataframe thead th {\n",
       "        text-align: right;\n",
       "    }\n",
       "</style>\n",
       "<table border=\"1\" class=\"dataframe\">\n",
       "  <thead>\n",
       "    <tr style=\"text-align: right;\">\n",
       "      <th>country</th>\n",
       "      <th>Brazil IMP</th>\n",
       "      <th>South Africa IMP</th>\n",
       "    </tr>\n",
       "  </thead>\n",
       "  <tbody>\n",
       "    <tr>\n",
       "      <th>1980</th>\n",
       "      <td>11.30</td>\n",
       "      <td>26.5</td>\n",
       "    </tr>\n",
       "    <tr>\n",
       "      <th>1981</th>\n",
       "      <td>9.80</td>\n",
       "      <td>29.4</td>\n",
       "    </tr>\n",
       "    <tr>\n",
       "      <th>1982</th>\n",
       "      <td>8.27</td>\n",
       "      <td>26.0</td>\n",
       "    </tr>\n",
       "    <tr>\n",
       "      <th>1983</th>\n",
       "      <td>9.01</td>\n",
       "      <td>20.3</td>\n",
       "    </tr>\n",
       "    <tr>\n",
       "      <th>1984</th>\n",
       "      <td>7.92</td>\n",
       "      <td>22.9</td>\n",
       "    </tr>\n",
       "    <tr>\n",
       "      <th>1985</th>\n",
       "      <td>7.10</td>\n",
       "      <td>21.9</td>\n",
       "    </tr>\n",
       "    <tr>\n",
       "      <th>1986</th>\n",
       "      <td>6.35</td>\n",
       "      <td>21.1</td>\n",
       "    </tr>\n",
       "    <tr>\n",
       "      <th>1987</th>\n",
       "      <td>6.19</td>\n",
       "      <td>19.7</td>\n",
       "    </tr>\n",
       "    <tr>\n",
       "      <th>1988</th>\n",
       "      <td>5.69</td>\n",
       "      <td>21.9</td>\n",
       "    </tr>\n",
       "    <tr>\n",
       "      <th>1989</th>\n",
       "      <td>5.46</td>\n",
       "      <td>20.7</td>\n",
       "    </tr>\n",
       "    <tr>\n",
       "      <th>1990</th>\n",
       "      <td>6.96</td>\n",
       "      <td>18.2</td>\n",
       "    </tr>\n",
       "    <tr>\n",
       "      <th>1991</th>\n",
       "      <td>7.91</td>\n",
       "      <td>17.0</td>\n",
       "    </tr>\n",
       "    <tr>\n",
       "      <th>1992</th>\n",
       "      <td>8.39</td>\n",
       "      <td>16.8</td>\n",
       "    </tr>\n",
       "    <tr>\n",
       "      <th>1993</th>\n",
       "      <td>9.10</td>\n",
       "      <td>17.3</td>\n",
       "    </tr>\n",
       "    <tr>\n",
       "      <th>1994</th>\n",
       "      <td>9.67</td>\n",
       "      <td>19.3</td>\n",
       "    </tr>\n",
       "    <tr>\n",
       "      <th>1995</th>\n",
       "      <td>9.46</td>\n",
       "      <td>21.5</td>\n",
       "    </tr>\n",
       "    <tr>\n",
       "      <th>1996</th>\n",
       "      <td>8.91</td>\n",
       "      <td>22.6</td>\n",
       "    </tr>\n",
       "    <tr>\n",
       "      <th>1997</th>\n",
       "      <td>9.59</td>\n",
       "      <td>22.9</td>\n",
       "    </tr>\n",
       "    <tr>\n",
       "      <th>1998</th>\n",
       "      <td>9.41</td>\n",
       "      <td>23.9</td>\n",
       "    </tr>\n",
       "    <tr>\n",
       "      <th>1999</th>\n",
       "      <td>11.40</td>\n",
       "      <td>22.2</td>\n",
       "    </tr>\n",
       "    <tr>\n",
       "      <th>2000</th>\n",
       "      <td>12.50</td>\n",
       "      <td>24.3</td>\n",
       "    </tr>\n",
       "  </tbody>\n",
       "</table>\n",
       "</div>"
      ],
      "text/plain": [
       "country  Brazil IMP  South Africa IMP\n",
       "1980          11.30              26.5\n",
       "1981           9.80              29.4\n",
       "1982           8.27              26.0\n",
       "1983           9.01              20.3\n",
       "1984           7.92              22.9\n",
       "1985           7.10              21.9\n",
       "1986           6.35              21.1\n",
       "1987           6.19              19.7\n",
       "1988           5.69              21.9\n",
       "1989           5.46              20.7\n",
       "1990           6.96              18.2\n",
       "1991           7.91              17.0\n",
       "1992           8.39              16.8\n",
       "1993           9.10              17.3\n",
       "1994           9.67              19.3\n",
       "1995           9.46              21.5\n",
       "1996           8.91              22.6\n",
       "1997           9.59              22.9\n",
       "1998           9.41              23.9\n",
       "1999          11.40              22.2\n",
       "2000          12.50              24.3"
      ]
     },
     "execution_count": 7,
     "metadata": {},
     "output_type": "execute_result"
    }
   ],
   "source": [
    "impgdp = pd.read_excel(\"imports_percent_of_gdp.xlsx\")\n",
    "expgdp = pd.read_excel(\"exports_percent_of_gdp.xlsx\")\n",
    "gdp2 = pd.read_excel('gdp.xlsx')\n",
    "\n",
    "impgdp = impgdp.set_index(\"country\")\n",
    "expgdp = expgdp.set_index(\"country\")\n",
    "gdp2 = gdp2.set_index(\"country\")\n",
    "\n",
    "gdp2 = gdp2.loc[[\"Brazil\", \"South Africa\"]].transpose()\n",
    "impgdp = impgdp.loc[[\"Brazil\", \"South Africa\"]].transpose()\n",
    "expgdp = expgdp.loc[[\"Brazil\", \"South Africa\"]].transpose()\n",
    "\n",
    "impgdp= impgdp.rename(columns = {'Brazil':'Brazil IMP', 'South Africa':'South Africa IMP'})\n",
    "expgdp= expgdp.rename(columns = {'Brazil':'Brazil EXP', 'South Africa':'South Africa EXP'})\n",
    "gdp2= gdp2.rename(columns = {'Brazil':'Brazil GDP', 'South Africa':'South Africa GDP'})\n",
    "\n",
    "gdp2 = gdp2.loc[(gdp2.index > 1979) & (gdp2.index < 2001)]\n",
    "impgdp = impgdp.loc[(impgdp.index > 1979) & (impgdp.index < 2001)]\n",
    "expgdp = expgdp.loc[(expgdp.index > 1979) & (expgdp.index < 2001)]\n",
    "impgdp"
   ]
  },
  {
   "cell_type": "code",
   "execution_count": 8,
   "metadata": {},
   "outputs": [],
   "source": [
    "df1 = impgdp.join(gdp2, how='inner', lsuffix=' ', rsuffix=' ')\n",
    "df2 = expgdp.join(gdp2, how='inner', lsuffix=' ', rsuffix=' ')\n",
    "df3 = impgdp.join(expgdp, how='inner', lsuffix=' ', rsuffix=' ')"
   ]
  },
  {
   "cell_type": "code",
   "execution_count": 9,
   "metadata": {},
   "outputs": [
    {
     "name": "stderr",
     "output_type": "stream",
     "text": [
      "C:\\ProgramData\\Anaconda3\\lib\\site-packages\\scipy\\stats\\stats.py:1713: FutureWarning: Using a non-tuple sequence for multidimensional indexing is deprecated; use `arr[tuple(seq)]` instead of `arr[seq]`. In the future this will be interpreted as an array index, `arr[np.array(seq)]`, which will result either in an error or a different result.\n",
      "  return np.add.reduce(sorted[indexer] * weights, axis=axis) / sumval\n"
     ]
    },
    {
     "name": "stdout",
     "output_type": "stream",
     "text": [
      "A correlação entre a exportação e o PIB no Brasil entre os anos de 1980 à 2000 é de 0.1477256234721897\n",
      "A correlação entre a importação e o PIB no Brasil entre os anos de 1980 à 2000 é de 0.10305816951980726\n",
      "A correlação entre a importação e a exportação entre os anos de 1980 à 2000 é de -0.12586210529010297\n"
     ]
    },
    {
     "data": {
      "image/png": "[encoded data removed]",
      "text/plain": [
       "<Figure size 432x288 with 1 Axes>"
      ]
     },
     "metadata": {
      "needs_background": "light"
     },
     "output_type": "display_data"
    },
    {
     "data": {
      "image/png": "[encoded data removed]",
      "text/plain": [
       "<Figure size 432x288 with 1 Axes>"
      ]
     },
     "metadata": {
      "needs_background": "light"
     },
     "output_type": "display_data"
    }
   ],
   "source": [
    "df2.plot.scatter(x='Brazil EXP',y='Brazil GDP', loglog = False);\n",
    "sns.regplot(df2[\"Brazil EXP\"],df2[\"Brazil GDP\"], color=('#a29bec'))\n",
    "plt.title(\"Crescimento anual do PIB x EXPORTAÇÕES\")\n",
    "plt.grid(True)\n",
    "print('A correlação entre a exportação e o PIB no Brasil entre os anos de 1980 à 2000 é de', df2['Brazil EXP'].corr(df2['Brazil GDP']))\n",
    "\n",
    "   \n",
    "print('A correlação entre a importação e o PIB no Brasil entre os anos de 1980 à 2000 é de', df1['Brazil IMP'].corr(df1['Brazil GDP']))\n",
    "\n",
    "df3.plot.scatter(x='Brazil EXP',y='Brazil IMP', loglog = False);\n",
    "sns.regplot(df3[\"Brazil EXP\"],df3[\"Brazil IMP\"], color=('#6f8676'))\n",
    "plt.title(\"EXPORTAÇÕES x IMPORTAÇÕES\")\n",
    "plt.grid(True)\n",
    "print('A correlação entre a importação e a exportação entre os anos de 1980 à 2000 é de', df3['Brazil EXP'].corr(df3['Brazil IMP']))"
   ]
  },
  {
   "cell_type": "markdown",
   "metadata": {},
   "source": [
    "### Comparação dos Dados:"
   ]
  },
  {
   "cell_type": "markdown",
   "metadata": {},
   "source": [
    "Para \"validar\" a hipótese de que a entrada do Brasil no Mercosul provocou o aumento do crescimento anual do PIB, é necessário comparar com países que fazem parte do bloco econômico e países que não fazem parte do bloco econômico e que possuem certa semelhança em relação à economia com o Brasil."
   ]
  },
  {
   "cell_type": "code",
   "execution_count": 10,
   "metadata": {},
   "outputs": [],
   "source": [
    "importsgdp = pd.read_excel(\"imports_percent_of_gdp.xlsx\")\n",
    "exportsgdp = pd.read_excel(\"exports_percent_of_gdp.xlsx\")\n",
    "importsgdp = importsgdp.set_index(\"country\")\n",
    "exportsgdp = exportsgdp.set_index(\"country\")\n",
    "importsgdp = importsgdp.loc[[\"Brazil\", \"South Africa\", \"Austria\", \"Norway\", \"New Zealand\", \"Russia\", \"China\", \"India\", \"Argentina\"]].transpose()\n",
    "exportsgdp = exportsgdp.loc[[\"Brazil\", \"South Africa\", \"Austria\", \"Norway\", \"New Zealand\", \"Russia\", \"China\", \"India\", \"Argentina\"]].transpose()\n",
    "\n",
    "gdp = pd.read_excel('gdp.xlsx')\n",
    "gdp = gdp.set_index(\"country\")\n",
    "gdp = gdp.loc[[\"Brazil\", \"South Africa\", \"Mexico\", \"Norway\", \"New Zealand\", \"Panama\", \"India\"]].transpose()"
   ]
  },
  {
   "cell_type": "code",
   "execution_count": 11,
   "metadata": {},
   "outputs": [
    {
     "ename": "SyntaxError",
     "evalue": "invalid syntax (<ipython-input-11-667c6d74b31f>, line 5)",
     "output_type": "error",
     "traceback": [
      "\u001b[1;36m  File \u001b[1;32m\"<ipython-input-11-667c6d74b31f>\"\u001b[1;36m, line \u001b[1;32m5\u001b[0m\n\u001b[1;33m    ]plt.plot(exportsgdp.loc[(exportsgdp.index > 1989) & (exportsgdp.index < 1999), \"Argentina\"], label=\"Argentina\")\u001b[0m\n\u001b[1;37m    ^\u001b[0m\n\u001b[1;31mSyntaxError\u001b[0m\u001b[1;31m:\u001b[0m invalid syntax\n"
     ]
    }
   ],
   "source": [
    "plt.plot(exportsgdp.loc[(exportsgdp.index > 1989) & (exportsgdp.index < 1999), \"Brazil\"], label=\"Brazil\", color = '#6f8676')\n",
    "plt.plot(exportsgdp.loc[(exportsgdp.index > 1989) & (exportsgdp.index < 1999), \"India\"], label=\"India\")\n",
    "plt.plot(exportsgdp.loc[(exportsgdp.index > 1989) & (exportsgdp.index < 1999), \"New Zealand\"], label=\"New Zealand\")\n",
    "plt.plot(exportsgdp.loc[(exportsgdp.index > 1989) & (exportsgdp.index < 1999), \"South Africa\"], label=\"South Africa\")\n",
    "]plt.plot(exportsgdp.loc[(exportsgdp.index > 1989) & (exportsgdp.index < 1999), \"Argentina\"], label=\"Argentina\")\n",
    "plt.grid(True)\n",
    "plt.legend()\n",
    "plt.title(\"Exportações (% em relação ao PIB)\")\n",
    "plt.show()"
   ]
  },
  {
   "cell_type": "markdown",
   "metadata": {},
   "source": [
    "Ao analisarmos, aparentemente os países de fora do Mercosul também apresentaram um aumento nas exportações entre os anos de 1990 à 1995"
   ]
  },
  {
   "cell_type": "code",
   "execution_count": null,
   "metadata": {},
   "outputs": [],
   "source": [
    "plt.plot(importsgdp.loc[(importsgdp.index > 1989) & (importsgdp.index < 1999), \"Brazil\"], label=\"Brazil\", color = '#6f8676')\n",
    "plt.plot(importsgdp.loc[(importsgdp.index > 1989) & (importsgdp.index < 1999), \"India\"], label=\"India\")\n",
    "plt.plot(importsgdp.loc[(importsgdp.index > 1989) & (importsgdp.index < 1999), \"New Zealand\"], label=\"New Zealand\")\n",
    "plt.plot(importsgdp.loc[(importsgdp.index > 1989) & (importsgdp.index < 1999), \"South Africa\"], label=\"South Africa\")\n",
    "plt.grid(True)\n",
    "plt.legend()\n",
    "plt.title(\"Exportações (% em relação ao PIB)\")\n",
    "plt.show()"
   ]
  },
  {
   "cell_type": "markdown",
   "metadata": {},
   "source": [
    "Os países de fora do Mercosul também apresentaram um aumento nas importações entre os anos de 1990 à 1995"
   ]
  },
  {
   "cell_type": "markdown",
   "metadata": {},
   "source": [
    "A princípio, o Brasil teve um aumento nas exportações e importações. Entretanto ao analisarmos o contexto mundial é possível\n",
    "notar que houve esse aumento em todo o mundo, ou seja, o mundo inteiro começou a exportar e importar mais. Logo não é possível\n",
    "concluir que o crescimento anual do PIB aumentou devido ao aumento nas importações e exportações."
   ]
  },
  {
   "cell_type": "code",
   "execution_count": null,
   "metadata": {},
   "outputs": [],
   "source": []
  },
  {
   "cell_type": "code",
   "execution_count": null,
   "metadata": {},
   "outputs": [],
   "source": [
    "plt.plot(gdp.loc[(gdp.index > 1988) & (gdp.index < 2000), \"Brazil\"], label=\"Brazil\", color = '#6f8676')\n",
    "plt.plot(gdp.loc[(gdp.index > 1988) & (gdp.index < 2000), \"South Africa\"], label=\"South Africa\")\n",
    "plt.plot(gdp.loc[(gdp.index > 1988) & (gdp.index < 2000), \"India\"], label=\"India\")\n",
    "plt.plot(gdp.loc[(gdp.index > 1988) & (gdp.index < 2000), \"New Zealand\"], label=\"New Zealand\")\n",
    "plt.plot(gdp.loc[(gdp.index > 1988) & (gdp.index < 2000), \"Mexico\"], label=\"Mexico\")\n",
    "plt.plot(gdp.loc[(gdp.index > 1988) & (gdp.index < 2000), \"Norway\"], label=\"Norway\")\n",
    "plt.grid(True)\n",
    "plt.legend()\n",
    "plt.title(\"Crescimento Anual do PIB (Mundo)\")\n",
    "plt.show()"
   ]
  },
  {
   "cell_type": "markdown",
   "metadata": {},
   "source": [
    "### Conclusão:\n",
    "    Ao Observar o crescimento anual do PIB em um contexto mundial, nota-se que a maioria dos países apresentam um aumento\n",
    "    no crescimento anual do PIB. Assim não é possível concluir que o aumento do Brasil se deve apenas ao Mercosul, visto que\n",
    "    em um contexto mundial, o mundo apresentou o aumento."
   ]
  },
  {
   "cell_type": "markdown",
   "metadata": {},
   "source": [
    "America do Norte: Mexico\n",
    "America do Sul:Brazil\n",
    "America Central: Panama\n",
    "Ásia: India\n",
    "Europa: Norway\n",
    "Oceania: New Zealand"
   ]
  },
  {
   "cell_type": "code",
   "execution_count": null,
   "metadata": {},
   "outputs": [],
   "source": [
    "plt.plot(gdp.loc[(gdp.index > 1988) & (gdp.index < 2000), \"Brazil\"], label=\"Brazil\", color = '#6f8676')\n",
    "plt.plot(gdp.loc[(gdp.index > 1988) & (gdp.index < 2000), \"South Africa\"], label=\"South Africa\", color = '#c093b2')\n",
    "plt.plot(gdp.loc[(gdp.index > 1988) & (gdp.index < 2000), \"India\"], label=\"India\", color = '#efcc82')\n",
    "plt.plot(gdp.loc[(gdp.index > 1988) & (gdp.index < 2000), \"Mexico\"], label=\"Mexico\", color = '#826860')\n",
    "plt.plot(gdp.loc[(gdp.index > 1988) & (gdp.index < 2000), \"New Zealand\"], label=\"New Zealand\", color = '#d6735d')\n",
    "plt.plot(gdp.loc[(gdp.index > 1988) & (gdp.index < 2000), \"Norway\"], label=\"Norway\", color = '#89afb4')\n",
    "plt.grid(True)\n",
    "plt.legend()\n",
    "plt.title(\"Crescimento Anual do PIB (Mundo)\")\n",
    "plt.show()"
   ]
  },
  {
   "cell_type": "code",
   "execution_count": null,
   "metadata": {},
   "outputs": [],
   "source": [
    "gdp_br = []\n",
    "i = 1\n",
    "while i <= 7:\n",
    "    gdpbr = gdp.loc[1988+i,\"Brazil\"]\n",
    "    gdp_br.append(gdpbr)\n",
    "    i+=1\n",
    "print('1')"
   ]
  },
  {
   "cell_type": "code",
   "execution_count": null,
   "metadata": {},
   "outputs": [],
   "source": [
    "#--------------------------------------------------------------\n",
    "gdp_norway = []\n",
    "i = 1\n",
    "while i <= 7:\n",
    "    gdpnorway = gdp.loc[1988+i,\"Norway\"]\n",
    "    gdp_norway.append(gdpnorway)\n",
    "    i+=1\n",
    "print('2')"
   ]
  },
  {
   "cell_type": "code",
   "execution_count": null,
   "metadata": {},
   "outputs": [],
   "source": [
    "#---------------------------------------------------------------\n",
    "gdp_nz = []\n",
    "i = 1\n",
    "while i <= 7:\n",
    "    gdpnz = gdp.loc[1988+i,\"New Zealand\"]\n",
    "    gdp_nz.append(gdp_nz)\n",
    "    i+=1\n",
    "print('3')"
   ]
  },
  {
   "cell_type": "code",
   "execution_count": null,
   "metadata": {},
   "outputs": [],
   "source": [
    "#---------------------------------------------------------------\n",
    "gdp_in = []\n",
    "i = 1\n",
    "while i <= 7:\n",
    "    gdpin = gdp.loc[1988+i,\"India\"]\n",
    "    gdp_in.append(gdpin)\n",
    "    i+=1\n",
    "print('4')"
   ]
  },
  {
   "cell_type": "code",
   "execution_count": null,
   "metadata": {},
   "outputs": [],
   "source": [
    "#---------------------------------------------------------------\n",
    "gdp_sa = []\n",
    "i = 1\n",
    "while i <= 7:\n",
    "    gdpsa = gdp.loc[1988+i,\"South Africa\"]\n",
    "    gdp_sa.append(gdpsa)\n",
    "    i+=1\n",
    "print('5')"
   ]
  },
  {
   "cell_type": "code",
   "execution_count": null,
   "metadata": {},
   "outputs": [],
   "source": [
    "#---------------------------------------------------------------\n",
    "gdp_mx = []\n",
    "i = 1\n",
    "while i <= 7:\n",
    "    gdpmx = gdp.loc[1988+i,\"Mexico\"]\n",
    "    gdp_mx.append(gdpmx)\n",
    "    i+=1\n",
    "print('6')"
   ]
  },
  {
   "cell_type": "code",
   "execution_count": null,
   "metadata": {},
   "outputs": [],
   "source": [
    "barWidth = 0.10\n",
    "\n",
    "#Aumentando o Gráfico\n",
    "plt.figure(figsize=(10,5))\n",
    "\n",
    "#Posições das barras\n",
    "r1 = np.arange(len(imp_br))\n",
    "r2 = [x + barWidth for x in r1]\n",
    "#r3 = [x + barWidth for x in r2]\n",
    "r3 = [x + barWidth for x in r2]\n",
    "r4 = [x + barWidth for x in r3]\n",
    "r5 = [x + barWidth for x in r4]\n",
    "\n",
    "plt.bar(r1, gdp_br, color='#6f8676',width=barWidth,label='Brazil')\n",
    "plt.bar(r2, gdp_norway, color=\"#fa756b\",width=barWidth,label='Norway')\n",
    "#plt.bar(r3, gdp_nz, color=\"#d6735d\",width=barWidth,label='New Zealand')\n",
    "plt.bar(r3, gdp_in, color=\"#efcc82\",width=barWidth,label='India')\n",
    "plt.bar(r4, gdp_sa, color=\"#c093b2\",width=barWidth,label='South Africa')\n",
    "plt.bar(r5, gdp_mx, color=\"#826860\",width=barWidth,label='Mexico')\n",
    "plt.xlabel(\"Ano\")\n",
    "plt.xticks([r + barWidth for r in range(len(gdp_br))], [1989,1990,1991,1992,1993,1994,1995, 1996])\n",
    "plt.ylabel(\"Crescimento anual do PIB\")\n",
    "plt.title(\"Crescimento anual do PIB nos anos (1989 - 1995)\")\n",
    "plt.legend()\n",
    "plt.show()\n",
    "\n",
    "plt.plot(gdp.loc[(gdp.index > 1988) & (gdp.index < 1996), \"Brazil\"], label=\"Brazil\", color = '#6f8676')\n",
    "plt.plot(gdp.loc[(gdp.index > 1988) & (gdp.index < 1996), \"South Africa\"], label=\"South Africa\", color = '#c093b2')\n",
    "plt.plot(gdp.loc[(gdp.index > 1988) & (gdp.index < 1996), \"India\"], label=\"India\", color = '#efcc82')\n",
    "plt.plot(gdp.loc[(gdp.index > 1988) & (gdp.index < 1996), \"Mexico\"], label=\"Mexico\", color = '#826860')\n",
    "plt.plot(gdp.loc[(gdp.index > 1988) & (gdp.index < 1996), \"New Zealand\"], label=\"New Zealand\", color = '#d6735d')\n",
    "plt.plot(gdp.loc[(gdp.index > 1988) & (gdp.index < 1996), \"Norway\"], label=\"Norway\", color = '#89afb4')\n",
    "plt.grid(True)\n",
    "plt.legend()\n",
    "plt.title(\"Crescimento Anual do PIB (Mundo)\")\n",
    "plt.show()"
   ]
  },
  {
   "cell_type": "markdown",
   "metadata": {},
   "source": []
  }
 ],
 "metadata": {
  "kernelspec": {
   "display_name": "Python 3",
   "language": "python",
   "name": "python3"
  },
  "language_info": {
   "codemirror_mode": {
    "name": "ipython",
    "version": 3
   },
   "file_extension": ".py",
   "mimetype": "text/x-python",
   "name": "python",
   "nbconvert_exporter": "python",
   "pygments_lexer": "ipython3",
   "version": "3.7.1"
  }
 },
 "nbformat": 4,
 "nbformat_minor": 2
}
